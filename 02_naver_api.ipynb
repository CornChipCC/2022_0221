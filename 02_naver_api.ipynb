{
 "cells": [
  {
   "cell_type": "markdown",
   "id": "21cc5dd1",
   "metadata": {},
   "source": [
    "### 크롤링 정책\n",
    "- robots.txt : 크롤링 정책을 설명한 페이지\n",
    "- 과도한 크롤링으로 서비스에 영향을 주었을 때 법적 문제가 있을 수 있음\n",
    "- 사람인, 잡코리아 : 2008년 > 2018년\n",
    "- api 사용 > robots.txt > 서비스에 피해가 가지 않는 선에서 수집\n",
    "- 서비스 피해\n",
    "    - 지적 재산권\n",
    "    - 서비스 과부화\n",
    "    - 데이터 사용표준"
   ]
  },
  {
   "cell_type": "markdown",
   "id": "8910c4f1",
   "metadata": {},
   "source": [
    "### API 서비스를 이용한 데이터 수집\n",
    "- naver api(application programing interface)\n",
    "- application 등록 : app_key\n",
    "- document 확인 : url\n",
    "- request(url, app_key, data) > response(json(str))\n",
    "- json(str) > list, dict"
   ]
  },
  {
   "cell_type": "code",
   "execution_count": 2,
   "id": "6d2626c3",
   "metadata": {},
   "outputs": [],
   "source": [
    "import json\n",
    "import requests\n",
    "import pandas as pd\n"
   ]
  },
  {
   "cell_type": "markdown",
   "id": "f1e96d61",
   "metadata": {},
   "source": [
    "#### kakao : 번역 api"
   ]
  },
  {
   "cell_type": "code",
   "execution_count": null,
   "id": "68bfb180",
   "metadata": {},
   "outputs": [],
   "source": [
    "# 1. application 등록 : app_key"
   ]
  },
  {
   "cell_type": "code",
   "execution_count": 3,
   "id": "1dcc006c",
   "metadata": {},
   "outputs": [],
   "source": [
    "APP_KEY = \"813c5cf7e168e4593c39f67bbed9e007\""
   ]
  },
  {
   "cell_type": "code",
   "execution_count": null,
   "id": "b678252c",
   "metadata": {},
   "outputs": [],
   "source": [
    "# 2. document 확인 : url\n",
    "# post : url, params, headers"
   ]
  },
  {
   "cell_type": "code",
   "execution_count": 5,
   "id": "aa47ede4",
   "metadata": {},
   "outputs": [],
   "source": [
    "url = \"https://dapi.kakao.com/v2/translation/translate\"\n",
    "params = {\"query\" : \"파이썬 웹크롤링 수업 입니다.\",\n",
    "         \"src_lang\" : \"kr\",\n",
    "         \"target_lang\":\"en\"}\n",
    "headers = {\"Authorization\": f\"KakaoAK {APP_KEY}\"}"
   ]
  },
  {
   "cell_type": "code",
   "execution_count": null,
   "id": "97834a78",
   "metadata": {},
   "outputs": [],
   "source": []
  },
  {
   "cell_type": "code",
   "execution_count": null,
   "id": "28abf45c",
   "metadata": {},
   "outputs": [],
   "source": [
    "# 3. request(url, app_key, data) > response(json(str))"
   ]
  },
  {
   "cell_type": "code",
   "execution_count": 10,
   "id": "2869ce3b",
   "metadata": {},
   "outputs": [
    {
     "data": {
      "text/plain": [
       "'{\"translated_text\":[[\"Python Webcrolling class.\"]]}'"
      ]
     },
     "execution_count": 10,
     "metadata": {},
     "output_type": "execute_result"
    }
   ],
   "source": [
    "response = requests.post(url, params, headers = headers)\n",
    "response.text"
   ]
  },
  {
   "cell_type": "code",
   "execution_count": null,
   "id": "a8183270",
   "metadata": {},
   "outputs": [],
   "source": [
    "# 4. json(str) > list, dict"
   ]
  },
  {
   "cell_type": "code",
   "execution_count": 9,
   "id": "427ec26c",
   "metadata": {},
   "outputs": [
    {
     "data": {
      "text/plain": [
       "'Python Webcrolling class.'"
      ]
     },
     "execution_count": 9,
     "metadata": {},
     "output_type": "execute_result"
    }
   ],
   "source": [
    "en_txt = response.json()[\"translated_text\"][0][0]\n",
    "en_txt"
   ]
  },
  {
   "cell_type": "code",
   "execution_count": 11,
   "id": "38de73bf",
   "metadata": {},
   "outputs": [],
   "source": [
    "# 5. function"
   ]
  },
  {
   "cell_type": "code",
   "execution_count": 14,
   "id": "dfaa2b70",
   "metadata": {},
   "outputs": [],
   "source": [
    "def translate(text, src = \"kr\", target = \"en\"):\n",
    "    APP_KEY = \"813c5cf7e168e4593c39f67bbed9e007\"\n",
    "    url = \"https://dapi.kakao.com/v2/translation/translate\"\n",
    "    params = {\"query\" : text,\n",
    "         \"src_lang\" : src,\n",
    "         \"target_lang\":target}\n",
    "    headers = {\"Authorization\": f\"KakaoAK {APP_KEY}\"}\n",
    "    response = requests.post(url, params, headers = headers)\n",
    "    return response.json()[\"translated_text\"][0][0]"
   ]
  },
  {
   "cell_type": "code",
   "execution_count": 15,
   "id": "9cdcc8b5",
   "metadata": {},
   "outputs": [
    {
     "data": {
      "text/plain": [
       "'Python programming is fun.'"
      ]
     },
     "execution_count": 15,
     "metadata": {},
     "output_type": "execute_result"
    }
   ],
   "source": [
    "text = \"파이썬 프로그래밍은 재미있습니다.\"\n",
    "en_text = translate(text)\n",
    "en_text"
   ]
  },
  {
   "cell_type": "code",
   "execution_count": 17,
   "id": "b797b387",
   "metadata": {},
   "outputs": [
    {
     "data": {
      "text/html": [
       "<div>\n",
       "<style scoped>\n",
       "    .dataframe tbody tr th:only-of-type {\n",
       "        vertical-align: middle;\n",
       "    }\n",
       "\n",
       "    .dataframe tbody tr th {\n",
       "        vertical-align: top;\n",
       "    }\n",
       "\n",
       "    .dataframe thead th {\n",
       "        text-align: right;\n",
       "    }\n",
       "</style>\n",
       "<table border=\"1\" class=\"dataframe\">\n",
       "  <thead>\n",
       "    <tr style=\"text-align: right;\">\n",
       "      <th></th>\n",
       "      <th>id</th>\n",
       "      <th>title</th>\n",
       "    </tr>\n",
       "  </thead>\n",
       "  <tbody>\n",
       "    <tr>\n",
       "      <th>0</th>\n",
       "      <td>1</td>\n",
       "      <td>파이썬은 재미있습니다.</td>\n",
       "    </tr>\n",
       "    <tr>\n",
       "      <th>1</th>\n",
       "      <td>2</td>\n",
       "      <td>웹 크롤링은 재미있습니다.</td>\n",
       "    </tr>\n",
       "  </tbody>\n",
       "</table>\n",
       "</div>"
      ],
      "text/plain": [
       "   id           title\n",
       "0   1    파이썬은 재미있습니다.\n",
       "1   2  웹 크롤링은 재미있습니다."
      ]
     },
     "execution_count": 17,
     "metadata": {},
     "output_type": "execute_result"
    }
   ],
   "source": [
    "df = pd.DataFrame(\n",
    "    [{\"id\" : 1, \"title\" : \"파이썬은 재미있습니다.\"},\n",
    "    {\"id\" : 2, \"title\" : \"웹 크롤링은 재미있습니다.\"}]\n",
    ")\n",
    "df"
   ]
  },
  {
   "cell_type": "code",
   "execution_count": 18,
   "id": "acbc3fc2",
   "metadata": {},
   "outputs": [
    {
     "data": {
      "text/html": [
       "<div>\n",
       "<style scoped>\n",
       "    .dataframe tbody tr th:only-of-type {\n",
       "        vertical-align: middle;\n",
       "    }\n",
       "\n",
       "    .dataframe tbody tr th {\n",
       "        vertical-align: top;\n",
       "    }\n",
       "\n",
       "    .dataframe thead th {\n",
       "        text-align: right;\n",
       "    }\n",
       "</style>\n",
       "<table border=\"1\" class=\"dataframe\">\n",
       "  <thead>\n",
       "    <tr style=\"text-align: right;\">\n",
       "      <th></th>\n",
       "      <th>id</th>\n",
       "      <th>title</th>\n",
       "      <th>en_title</th>\n",
       "    </tr>\n",
       "  </thead>\n",
       "  <tbody>\n",
       "    <tr>\n",
       "      <th>0</th>\n",
       "      <td>1</td>\n",
       "      <td>파이썬은 재미있습니다.</td>\n",
       "      <td>Python is fun.</td>\n",
       "    </tr>\n",
       "    <tr>\n",
       "      <th>1</th>\n",
       "      <td>2</td>\n",
       "      <td>웹 크롤링은 재미있습니다.</td>\n",
       "      <td>Web crawling is fun.</td>\n",
       "    </tr>\n",
       "  </tbody>\n",
       "</table>\n",
       "</div>"
      ],
      "text/plain": [
       "   id           title              en_title\n",
       "0   1    파이썬은 재미있습니다.        Python is fun.\n",
       "1   2  웹 크롤링은 재미있습니다.  Web crawling is fun."
      ]
     },
     "execution_count": 18,
     "metadata": {},
     "output_type": "execute_result"
    }
   ],
   "source": [
    "df[\"en_title\"] = df[\"title\"].apply(translate)\n",
    "df"
   ]
  },
  {
   "cell_type": "code",
   "execution_count": null,
   "id": "9e79a7bc",
   "metadata": {},
   "outputs": [],
   "source": []
  },
  {
   "cell_type": "code",
   "execution_count": null,
   "id": "147ef9c2",
   "metadata": {},
   "outputs": [],
   "source": []
  }
 ],
 "metadata": {
  "kernelspec": {
   "display_name": "Python 3",
   "language": "python",
   "name": "python3"
  },
  "language_info": {
   "codemirror_mode": {
    "name": "ipython",
    "version": 3
   },
   "file_extension": ".py",
   "mimetype": "text/x-python",
   "name": "python",
   "nbconvert_exporter": "python",
   "pygments_lexer": "ipython3",
   "version": "3.8.8"
  }
 },
 "nbformat": 4,
 "nbformat_minor": 5
}
